{
 "cells": [
  {
   "cell_type": "markdown",
   "source": [
    "# Introduction\r\n",
    "We'll start an overview of how machine learning models wok and how they are used. This may feel basic if you've done statistical modeling or machine learning before. Don't worry, we will progress to building powerful models soon.\r\n",
    "\r\n",
    "This course will have ypi build models as you go through following scenario.\r\n",
    "\r\n",
    "Yout cousin has made millions of dollars speculating on real estate. He's offered to become business partners with you because of your interest in data science. He'll supply the money, and you'll supply models that predict how much various houses are worth/\r\n",
    "\r\n",
    "You ask your cousin how he's predicted real estate value in the past. and he says it is just intuition. But more questioning reveals that he's identified price patterns from houses he has seen in the past, and he uses those patterns to make predictions for new houses he is considering.\r\n",
    "\r\n",
    "Machine laerning works the same way. We'll start with a model called the Decision Tree. There are fancier models that gieve more accurate predictions. But decision trees are easy to understand, and they are the basic building block for some of the best models in data science.\r\n",
    "\r\n",
    "For simplicity, we'' start with the simplest possible decision tree.\r\n",
    "\r\n",
    "![decisionTree](./assets/sample_decision_tree.png)\r\n",
    "\r\n",
    "It dicides houses into only two categories. The predicted price for any gouse under consideration is the historical average price of houses in the same category.\r\n",
    "\r\n",
    "We use data to decide how to break the houses into two groups, and then again to determine the predicted price in each group. This step of capturing patterns from data is called __fitting__ or __training__ the model. The data used to __fit__ the model is called the __training data__.\r\n",
    "\r\n",
    "The details of how the model is fit (e.g. how to split up the data) is complex enough that we will save it for later. After the model has been fit, you can apply it tp new data to predict prices of additional homes.\r\n",
    "\r\n",
    "---\r\n",
    "\r\n",
    "# Improving the Decision Tree\r\n",
    "Which of the following two decisions trees is more likely to result from fitting the real estate training data?\r\n",
    "\r\n",
    "![improvingTheDecisionTree1](./assets/improving_the_decision_tree_1.png)\r\n",
    "\r\n",
    "The decision tree on the left (Decision Tree 1) probably makes more sense, because it captures the reality that house with more bedrooms tend to sell at higher prices than houses with fewer bedrooms. The biggest shortcoming of this model is that it doesn't capture most factors affecting home price, like number or bathrooms, lot size, location, etc.\r\n",
    "\r\n",
    "You can capture more cators using a tree that has more \"splits.\" These are called \"deeper\" trees. A decision tree that also considers the total size of each house's lot might look like this:\r\n",
    "![improvingTheDecisionTree2](./assets/improving_the_decision_tree_2.png)\r\n",
    "You predict the price of any house by tracing through the decision tree, always picking the path corresponding to that house's characteristics. The predicted price for the house is at the bottom of the tree. The point at the bottom where we make a prediction is called a __leaf__.\r\n",
    "\r\n",
    "The splits and values at the leaves will be determined by the data, so it's time for you to check out the data you will be working with.\r\n",
    "\r\n",
    "# Continue\r\n",
    "Let's get more specific. It's time to [Examine Your Data.](https://www.kaggle.com/dansbecker/basic-data-exploration)"
   ],
   "metadata": {}
  }
 ],
 "metadata": {
  "orig_nbformat": 4,
  "language_info": {
   "name": "python"
  }
 },
 "nbformat": 4,
 "nbformat_minor": 2
}