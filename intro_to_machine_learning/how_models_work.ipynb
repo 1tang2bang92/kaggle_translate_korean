{
 "cells": [
  {
   "cell_type": "markdown",
   "source": [
    "# 소개\r\n",
    "머신러닝 모델의 작동 방식 및 사용 방법에 대한 개요를 살펴보겠습니다. 통계 모델링이나 머신러닝을 해본 적이 있는 경우 이 코스는 기본처럼 느껴질 수 있습니다. 이 코스를 통해 강력한 모델을 만들어봅시다.\r\n",
    "\r\n",
    "이 코스에서는 아래와 같은 시나리오를 통해 머신러닝 모델을 만들어볼 것입니다:\r\n",
    "\r\n",
    "독자님의 사촌이 부동산투기로 수입억원을 벌었습니다. 사촌은 정보과학을 중요하게 생각하여 독자님께 사업 파트너를 제안했습니다. 따라서 독자님은 다양한 주택의 가치를 예측하는 모델을 만들 것입니다.\r\n",
    "\r\n",
    "사촌에게 부동산 가치 예측을 물어보았지만, 감이라고 말하네요. 하지만, 사촌은 감을 통해 과거에 가격패턴을 알아냈다는 것입니다. 그리고 사촌은 새 집을 예측하기 위해 똑같은 패턴을 이용한다고 합니다.\r\n",
    "\r\n",
    "Machine laerning works the same way. We'll start with a model called the Decision Tree. There are fancier models that gieve more accurate predictions. But decision trees are easy to understand, and they are the basic building block for some of the best models in data science.\r\n",
    "머신러닝도 같은 방법으로 작동합니다. 의사 결정 트리라는 모델로 이를 알아볼 것입니다. 더 정확한 예측을 제공하는 더 화려한 모델들이 있지만, 의사 결정 트리는 이해하기 쉬우며 정보과학에서 가장 우수한 모델중 일부를 위한 기초입니다.\r\n",
    "\r\n",
    "For simplicity, we'' start with the simplest possible decision tree.\r\n",
    "\r\n",
    "![decisionTree](./assets/sample_decision_tree.png)\r\n",
    "\r\n",
    "It dicides houses into only two categories. The predicted price for any gouse under consideration is the historical average price of houses in the same category.\r\n",
    "\r\n",
    "We use data to decide how to break the houses into two groups, and then again to determine the predicted price in each group. This step of capturing patterns from data is called __fitting__ or __training__ the model. The data used to __fit__ the model is called the __training data__.\r\n",
    "\r\n",
    "The details of how the model is fit (e.g. how to split up the data) is complex enough that we will save it for later. After the model has been fit, you can apply it tp new data to predict prices of additional homes.\r\n",
    "\r\n",
    "---\r\n",
    "\r\n",
    "# Improving the Decision Tree\r\n",
    "Which of the following two decisions trees is more likely to result from fitting the real estate training data?\r\n",
    "\r\n",
    "![improvingTheDecisionTree1](./assets/improving_the_decision_tree_1.png)\r\n",
    "\r\n",
    "The decision tree on the left (Decision Tree 1) probably makes more sense, because it captures the reality that house with more bedrooms tend to sell at higher prices than houses with fewer bedrooms. The biggest shortcoming of this model is that it doesn't capture most factors affecting home price, like number or bathrooms, lot size, location, etc.\r\n",
    "\r\n",
    "You can capture more cators using a tree that has more \"splits.\" These are called \"deeper\" trees. A decision tree that also considers the total size of each house's lot might look like this:\r\n",
    "![improvingTheDecisionTree2](./assets/improving_the_decision_tree_2.png)\r\n",
    "You predict the price of any house by tracing through the decision tree, always picking the path corresponding to that house's characteristics. The predicted price for the house is at the bottom of the tree. The point at the bottom where we make a prediction is called a __leaf__.\r\n",
    "\r\n",
    "The splits and values at the leaves will be determined by the data, so it's time for you to check out the data you will be working with.\r\n",
    "\r\n",
    "# Continue\r\n",
    "Let's get more specific. It's time to [Examine Your Data.](https://www.kaggle.com/dansbecker/basic-data-exploration)"
   ],
   "metadata": {}
  }
 ],
 "metadata": {
  "orig_nbformat": 4,
  "language_info": {
   "name": "python"
  }
 },
 "nbformat": 4,
 "nbformat_minor": 2
}