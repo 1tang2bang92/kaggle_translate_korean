{
 "cells": [
  {
   "cell_type": "markdown",
   "source": [
    "# Introduction\r\n",
    "We'll start an overview of how machine learning models wok and how they are used. This may feel basic if you've done statistical modeling or machine learning before. Don't worry, we will progress to building powerful models soon.\r\n",
    "\r\n",
    "This course will have ypi build models as you go through following scenario.\r\n",
    "\r\n",
    "Yout cousin has made millions of dollars speculating on real estate. He's offered to become business partners with you because of your interest in data science. He'll supply the money, and you'll supply models that predict how much various houses are worth/\r\n",
    "\r\n",
    "You ask your cousin how he's predicted real estate value in the past. and he says it is just intuition. But more questioning reveals that he's identified price patterns from houses he has seen in the past, and he uses those patterns to make predictions for new houses he is considering.\r\n",
    "\r\n",
    "Machine laerning works the same way. We'll start with a model called the Decision Tree. There are fancier models that gieve more accurate predictions. But decision trees are easy to understand, and they are the basic building block for some of the best models in data science.\r\n",
    "\r\n",
    "For simplicity, we'' start with the simplest possible decision tree.\r\n",
    "\r\n",
    "![decisionTree](./assets/sample_decision_tree.png)\r\n",
    "\r\n",
    "It dicides houses into only two categories. The predicted price for any gouse under consideration is the historical average price of houses in the same category.\r\n",
    "\r\n",
    "We use data to decide how to break the houses into two groups, and then again to determine the predicted price in each group. This step of capturing patterns from data is called __fitting__ or __training__ the model. The data used to __fit__ the model is called the __training data__."
   ],
   "metadata": {}
  }
 ],
 "metadata": {
  "orig_nbformat": 4,
  "language_info": {
   "name": "python"
  }
 },
 "nbformat": 4,
 "nbformat_minor": 2
}